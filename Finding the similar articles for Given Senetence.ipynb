{
 "cells": [
  {
   "cell_type": "code",
   "execution_count": 1,
   "metadata": {},
   "outputs": [],
   "source": [
    "#loading libraries\n",
    "import pandas as pd \n",
    "import numpy as np\n",
    "import re\n",
    "import string\n",
    "import nltk\n",
    "from nltk.corpus import stopwords\n",
    "from nltk.stem import PorterStemmer\n",
    "from nltk.stem import SnowballStemmer\n",
    "from nltk.stem.wordnet import WordNetLemmatizer\n",
    "import warnings\n",
    "from tqdm import tqdm\n",
    "warnings.filterwarnings(\"ignore\")\n",
    "\n",
    "\n",
    "# loading the data from json file\n",
    "import json   \n",
    "with open(\"ArticleDataset.json\") as f:\n",
    "  data = json.load(f)"
   ]
  },
  {
   "cell_type": "code",
   "execution_count": 2,
   "metadata": {},
   "outputs": [],
   "source": [
    "# converting into dataframe from json format\n",
    "data = pd.DataFrame(data) "
   ]
  },
  {
   "cell_type": "code",
   "execution_count": 3,
   "metadata": {},
   "outputs": [
    {
     "data": {
      "text/html": [
       "<div>\n",
       "<style scoped>\n",
       "    .dataframe tbody tr th:only-of-type {\n",
       "        vertical-align: middle;\n",
       "    }\n",
       "\n",
       "    .dataframe tbody tr th {\n",
       "        vertical-align: top;\n",
       "    }\n",
       "\n",
       "    .dataframe thead th {\n",
       "        text-align: right;\n",
       "    }\n",
       "</style>\n",
       "<table border=\"1\" class=\"dataframe\">\n",
       "  <thead>\n",
       "    <tr style=\"text-align: right;\">\n",
       "      <th></th>\n",
       "      <th>date</th>\n",
       "      <th>title</th>\n",
       "      <th>text</th>\n",
       "      <th>url</th>\n",
       "      <th>unknown</th>\n",
       "    </tr>\n",
       "  </thead>\n",
       "  <tbody>\n",
       "    <tr>\n",
       "      <th>0</th>\n",
       "      <td>2020-01-22</td>\n",
       "      <td>TE Connectivity introduces M12 industrial Ethe...</td>\n",
       "      <td>TE Connectivity (TE) now offers M12 data cable...</td>\n",
       "      <td>https://www.automationmag.com/te-connectivity-...</td>\n",
       "      <td>empty</td>\n",
       "    </tr>\n",
       "    <tr>\n",
       "      <th>1</th>\n",
       "      <td>2020-01-22</td>\n",
       "      <td>Kirigami designs hold thousands of times their...</td>\n",
       "      <td>The Japanese art of origami (from ori, folding...</td>\n",
       "      <td>https://techxplore.com/news/2020-01-kirigami-t...</td>\n",
       "      <td>empty</td>\n",
       "    </tr>\n",
       "    <tr>\n",
       "      <th>2</th>\n",
       "      <td>2020-01-22</td>\n",
       "      <td>GM's Cruise heads down new road with new robot...</td>\n",
       "      <td>General Motors' self-driving car company will ...</td>\n",
       "      <td>https://techxplore.com/news/2020-01-gm-cruise-...</td>\n",
       "      <td>empty</td>\n",
       "    </tr>\n",
       "    <tr>\n",
       "      <th>3</th>\n",
       "      <td>2020-01-22</td>\n",
       "      <td>First fully integrated flexible electronics ma...</td>\n",
       "      <td>Human skin is a fascinating multifunctional or...</td>\n",
       "      <td>https://techxplore.com/news/2020-01-fully-flex...</td>\n",
       "      <td>empty</td>\n",
       "    </tr>\n",
       "    <tr>\n",
       "      <th>4</th>\n",
       "      <td>2020-01-22</td>\n",
       "      <td>Study says that we trust our workplace robots</td>\n",
       "      <td>The only constant is change. Presumptions hard...</td>\n",
       "      <td>https://techxplore.com/news/2020-01-workplace-...</td>\n",
       "      <td>empty</td>\n",
       "    </tr>\n",
       "  </tbody>\n",
       "</table>\n",
       "</div>"
      ],
      "text/plain": [
       "         date                                              title  \\\n",
       "0  2020-01-22  TE Connectivity introduces M12 industrial Ethe...   \n",
       "1  2020-01-22  Kirigami designs hold thousands of times their...   \n",
       "2  2020-01-22  GM's Cruise heads down new road with new robot...   \n",
       "3  2020-01-22  First fully integrated flexible electronics ma...   \n",
       "4  2020-01-22      Study says that we trust our workplace robots   \n",
       "\n",
       "                                                text  \\\n",
       "0  TE Connectivity (TE) now offers M12 data cable...   \n",
       "1  The Japanese art of origami (from ori, folding...   \n",
       "2  General Motors' self-driving car company will ...   \n",
       "3  Human skin is a fascinating multifunctional or...   \n",
       "4  The only constant is change. Presumptions hard...   \n",
       "\n",
       "                                                 url unknown  \n",
       "0  https://www.automationmag.com/te-connectivity-...   empty  \n",
       "1  https://techxplore.com/news/2020-01-kirigami-t...   empty  \n",
       "2  https://techxplore.com/news/2020-01-gm-cruise-...   empty  \n",
       "3  https://techxplore.com/news/2020-01-fully-flex...   empty  \n",
       "4  https://techxplore.com/news/2020-01-workplace-...   empty  "
      ]
     },
     "execution_count": 3,
     "metadata": {},
     "output_type": "execute_result"
    }
   ],
   "source": [
    "data.head() # printing first 5 roes of the data"
   ]
  },
  {
   "cell_type": "code",
   "execution_count": 4,
   "metadata": {},
   "outputs": [],
   "source": [
    "text = data.text # assigning the our text data to text varible "
   ]
  },
  {
   "cell_type": "code",
   "execution_count": 5,
   "metadata": {},
   "outputs": [
    {
     "data": {
      "text/plain": [
       "0       TE Connectivity (TE) now offers M12 data cable...\n",
       "1       The Japanese art of origami (from ori, folding...\n",
       "2       General Motors' self-driving car company will ...\n",
       "3       Human skin is a fascinating multifunctional or...\n",
       "4       The only constant is change. Presumptions hard...\n",
       "                              ...                        \n",
       "8431    About The Author\\nFrank Tobe\\nFrank Tobe is th...\n",
       "8432    Frank Tobe\\nFrank Tobe is the founder of The R...\n",
       "8433    Frank Tobe\\nFrank Tobe is the founder of The R...\n",
       "8434    Frank Tobe\\nFrank Tobe is the founder of The R...\n",
       "8435    Frank Tobe\\nFrank Tobe is the founder of The R...\n",
       "Name: text, Length: 8436, dtype: object"
      ]
     },
     "execution_count": 5,
     "metadata": {},
     "output_type": "execute_result"
    }
   ],
   "source": [
    "text # printing the text column"
   ]
  },
  {
   "cell_type": "code",
   "execution_count": 6,
   "metadata": {},
   "outputs": [
    {
     "data": {
      "text/plain": [
       "8436"
      ]
     },
     "execution_count": 6,
     "metadata": {},
     "output_type": "execute_result"
    }
   ],
   "source": [
    "len(text) # no of rows"
   ]
  },
  {
   "cell_type": "code",
   "execution_count": 7,
   "metadata": {},
   "outputs": [
    {
     "data": {
      "text/plain": [
       "'I am   siva'"
      ]
     },
     "execution_count": 7,
     "metadata": {},
     "output_type": "execute_result"
    }
   ],
   "source": [
    "#function to remove the html tags from text \n",
    "\n",
    "def cleanhtml(sentence):             \n",
    "    cleanr = re.compile('<.*?>')  \n",
    "    cleantext = re.sub(cleanr,' ',sentence)\n",
    "    return cleantext\n",
    "sentence = 'I am <abc> siva'\n",
    "cleanhtml(sentence)"
   ]
  },
  {
   "cell_type": "code",
   "execution_count": 8,
   "metadata": {},
   "outputs": [
    {
     "data": {
      "text/plain": [
       "'I am  Siva'"
      ]
     },
     "execution_count": 8,
     "metadata": {},
     "output_type": "execute_result"
    }
   ],
   "source": [
    "# function to remove punctuation from text\n",
    "import re\n",
    "def cleanpunc(sentence):\n",
    "    cleaned = re.sub('[?|!|\\'|\"|#]',' ',sentence)\n",
    "    cleaned = re.sub('[.|,|(|)|\\|/]',' ',cleaned)\n",
    "    return cleaned\n",
    "sentence = 'I am?(Siva'\n",
    "cleanpunc(sentence)"
   ]
  },
  {
   "cell_type": "code",
   "execution_count": 9,
   "metadata": {},
   "outputs": [
    {
     "name": "stderr",
     "output_type": "stream",
     "text": [
      "100%|█████████████████████████████████████████████████████████████████████████████| 8436/8436 [01:12<00:00, 116.14it/s]\n"
     ]
    }
   ],
   "source": [
    "snostem = nltk.stem.SnowballStemmer('english')\n",
    "def text_preprocessing(final): \n",
    "    str=''\n",
    "    final_string=[]\n",
    "    s=''\n",
    "    for sent in tqdm(final.values):\n",
    "        filtered_sentence=[]\n",
    "        sent = cleanhtml(sent)\n",
    "        for w in sent.split():\n",
    "            for cleaned_words in cleanpunc(w).split(): #after cleanpunc again one word may become two or multiple so they'll be split and stored as different words\n",
    "                if((cleaned_words.isalpha()&(len(cleaned_words)>2))):\n",
    "                    #if(cleaned_words.lower() not in stop):\n",
    "                    s = (snostem.stem(cleaned_words.lower()).encode('utf8'))\n",
    "                    filtered_sentence.append(s)\n",
    "        str = b\" \".join(filtered_sentence)\n",
    "        final_string.append(str)\n",
    "    return final_string\n",
    "\n",
    "final_text = []\n",
    "final_text = text_preprocessing(text)"
   ]
  },
  {
   "cell_type": "code",
   "execution_count": 10,
   "metadata": {},
   "outputs": [
    {
     "data": {
      "text/plain": [
       "b'connect now offer data cabl assembl that support ethernet protocol part it packag industri ethernet and fieldbus solut user the new industri ethernet cabl assembl can choos from wide rang featur jacket for exampl pvc pur other frnc flame retard materi pvc provid competit and econom solut for occasion movement vibrat but lack area such flex properti while pur more suit more demand applic for exampl drag chain and harsh environ where oper reliabl crucial depend the materi the assembl withstand million flex machin oil abras and radiat compact hous with crimp flang crimp sleev provid shield against emi rfi interfer the hexagon crimp the sleev give and cabl strain relief accord with iec categori class well safe shield termin categori cabl can realiz transmiss rate meet network requir the field and supervisori manag level the new assembl are avail with sever standard cabl length option from through'"
      ]
     },
     "execution_count": 10,
     "metadata": {},
     "output_type": "execute_result"
    }
   ],
   "source": [
    "final_text[0] # "
   ]
  },
  {
   "cell_type": "code",
   "execution_count": 11,
   "metadata": {},
   "outputs": [
    {
     "data": {
      "text/plain": [
       "b'frank tobe frank tobe the founder the robot report and robo global which has develop track index for the robot industri the robo robot autom index the index compani track and captur the entir econom valu this global opportun robot autom and enabl technolog this site use akismet reduc spam learn how your comment data process'"
      ]
     },
     "execution_count": 11,
     "metadata": {},
     "output_type": "execute_result"
    }
   ],
   "source": [
    "final_text[8435]"
   ]
  },
  {
   "cell_type": "code",
   "execution_count": 12,
   "metadata": {},
   "outputs": [],
   "source": [
    "#fitting the data into tfidf vector \n",
    "from sklearn.feature_extraction.text import TfidfVectorizer\n",
    "count_vect = TfidfVectorizer()\n",
    "final_tfidf = count_vect.fit_transform(final_text)"
   ]
  },
  {
   "cell_type": "code",
   "execution_count": 13,
   "metadata": {},
   "outputs": [
    {
     "data": {
      "text/plain": [
       "(8436, 45005)"
      ]
     },
     "execution_count": 13,
     "metadata": {},
     "output_type": "execute_result"
    }
   ],
   "source": [
    "final_tfidf.shape # 8436 rows and 45005 dimensions"
   ]
  },
  {
   "cell_type": "code",
   "execution_count": 14,
   "metadata": {},
   "outputs": [
    {
     "name": "stderr",
     "output_type": "stream",
     "text": [
      "100%|████████████████████████████████████████████████████████████████████████████████████████████| 1/1 [00:00<?, ?it/s]\n"
     ]
    },
    {
     "data": {
      "text/plain": [
       "[b'quantum comput softwar from ibm']"
      ]
     },
     "execution_count": 14,
     "metadata": {},
     "output_type": "execute_result"
    }
   ],
   "source": [
    "# reading the query data\n",
    "query_data = \"quantum computing software from IBM\"\n",
    "text_preprocessing(pd.Series(query_data))"
   ]
  },
  {
   "cell_type": "code",
   "execution_count": 15,
   "metadata": {},
   "outputs": [
    {
     "data": {
      "text/plain": [
       "(1, 45005)"
      ]
     },
     "execution_count": 15,
     "metadata": {},
     "output_type": "execute_result"
    }
   ],
   "source": [
    "# transforming the query data to vector \n",
    "query_tfidf = count_vect.transform([query_data])\n",
    "query_tfidf.shape"
   ]
  },
  {
   "cell_type": "code",
   "execution_count": 16,
   "metadata": {},
   "outputs": [],
   "source": [
    "data.reset_index(inplace=True)"
   ]
  },
  {
   "cell_type": "code",
   "execution_count": 17,
   "metadata": {},
   "outputs": [],
   "source": [
    "# finding the nearest 100 article to given query using cosine similarity"
   ]
  },
  {
   "cell_type": "code",
   "execution_count": 18,
   "metadata": {},
   "outputs": [
    {
     "name": "stdout",
     "output_type": "stream",
     "text": [
      "[[0.17432813 0.65984195 0.66397505 0.71679408 0.74733302 0.74939402\n",
      "  0.76618151 0.79588156 0.79606815 0.80652538 0.81848351 0.82597695\n",
      "  0.84210089 0.87356901 0.87891046 0.88317986 0.88675961 0.88844694\n",
      "  0.89212404 0.89413136 0.89511236 0.89941679 0.89955203 0.90095808\n",
      "  0.90105045 0.9024188  0.90296239 0.90325462 0.90866678 0.90978494\n",
      "  0.91543839 0.91572471 0.91593111 0.92162084 0.92214051 0.92448259\n",
      "  0.92686756 0.9273293  0.92779326 0.93011002 0.93560343 0.938978\n",
      "  0.9395355  0.94066074 0.94131146 0.94223812 0.94545449 0.9476894\n",
      "  0.95020612 0.95058628 0.95079163 0.95129797 0.95192677 0.95295388\n",
      "  0.95365108 0.95374203 0.95418391 0.9550015  0.95615702 0.95683299\n",
      "  0.95837422 0.95938264 0.95957363 0.9595957  0.95971917 0.95981608\n",
      "  0.96069942 0.96073339 0.96112341 0.96122988 0.96182312 0.96184146\n",
      "  0.96251472 0.96286939 0.96322265 0.96376188 0.96463725 0.96514566\n",
      "  0.96605571 0.96606515 0.96625335 0.96653667 0.96693388 0.96823392\n",
      "  0.96861912 0.96871514 0.96888243 0.96950773 0.96957867 0.96982828\n",
      "  0.9704053  0.97100865 0.97114175 0.97117255 0.971214   0.97135873\n",
      "  0.97152511 0.97197955 0.97229569 0.97308979]]\n",
      "[[1557 5894  228  353 3578 2086 2212 3967 1253 6888 2301 6148 3458 3784\n",
      "  4599  301 1086  308 5405 5406 5615 7544 8331 5974  462 6723 8294 5934\n",
      "  1201 8297 8055 2343  173 4425 4567 2039 7992 4863  161 3564 7447 2773\n",
      "  3709 1068 2752 3127   74 5922 3639 4740  379 2905 4136 7895  851 7028\n",
      "  3061 4223   22 1807 4330 3605 8200 2498 1401 5835 3422 7267 8002 5082\n",
      "  5914 4099 5594  781  224 5480 4824 1626 3142 7182 3927 2666  273 3486\n",
      "  4652  240  996 5499 7358 3707  897 7042 1136 5193 4865 6396 7012 6149\n",
      "  2385 1150]]\n"
     ]
    },
    {
     "data": {
      "text/html": [
       "<div>\n",
       "<style scoped>\n",
       "    .dataframe tbody tr th:only-of-type {\n",
       "        vertical-align: middle;\n",
       "    }\n",
       "\n",
       "    .dataframe tbody tr th {\n",
       "        vertical-align: top;\n",
       "    }\n",
       "\n",
       "    .dataframe thead th {\n",
       "        text-align: right;\n",
       "    }\n",
       "</style>\n",
       "<table border=\"1\" class=\"dataframe\">\n",
       "  <thead>\n",
       "    <tr style=\"text-align: right;\">\n",
       "      <th></th>\n",
       "      <th>index</th>\n",
       "      <th>date</th>\n",
       "      <th>title</th>\n",
       "      <th>text</th>\n",
       "      <th>url</th>\n",
       "      <th>unknown</th>\n",
       "    </tr>\n",
       "  </thead>\n",
       "  <tbody>\n",
       "    <tr>\n",
       "      <th>1557</th>\n",
       "      <td>1557</td>\n",
       "      <td>2019-03-04</td>\n",
       "      <td>IBM unveils new commercial Q System One quantu...</td>\n",
       "      <td>IBM has released the world's first-ever commer...</td>\n",
       "      <td>https://www.themanufacturer.com/articles/ibm-u...</td>\n",
       "      <td>empty</td>\n",
       "    </tr>\n",
       "    <tr>\n",
       "      <th>5894</th>\n",
       "      <td>5894</td>\n",
       "      <td>2015-03-31</td>\n",
       "      <td>IBM Investing Billions in 'Internet of Things'</td>\n",
       "      <td>NEW YORK - IBM (IW 500/11) announced Tuesday i...</td>\n",
       "      <td>https://www.industryweek.com/technology-and-ii...</td>\n",
       "      <td>empty</td>\n",
       "    </tr>\n",
       "    <tr>\n",
       "      <th>228</th>\n",
       "      <td>228</td>\n",
       "      <td>2019-12-10</td>\n",
       "      <td>Intel Introduces cryogenic control chip 'Horse...</td>\n",
       "      <td>Intel has announced the development of a cryog...</td>\n",
       "      <td>https://techxplore.com/news/2019-12-intel-cryo...</td>\n",
       "      <td>empty</td>\n",
       "    </tr>\n",
       "    <tr>\n",
       "      <th>353</th>\n",
       "      <td>353</td>\n",
       "      <td>2019-11-18</td>\n",
       "      <td>An artificial intelligence algorithm can learn...</td>\n",
       "      <td>Artificial intelligence can be used to predict...</td>\n",
       "      <td>https://techxplore.com/news/2019-11-artificial...</td>\n",
       "      <td>empty</td>\n",
       "    </tr>\n",
       "    <tr>\n",
       "      <th>3578</th>\n",
       "      <td>3578</td>\n",
       "      <td>2017-09-11</td>\n",
       "      <td>IBM and MIT partner on AI research lab</td>\n",
       "      <td>IBM and the Mass. Institute of Technology plan...</td>\n",
       "      <td>https://www.therobotreport.com/ibm-mit-partner...</td>\n",
       "      <td>empty</td>\n",
       "    </tr>\n",
       "    <tr>\n",
       "      <th>...</th>\n",
       "      <td>...</td>\n",
       "      <td>...</td>\n",
       "      <td>...</td>\n",
       "      <td>...</td>\n",
       "      <td>...</td>\n",
       "      <td>...</td>\n",
       "    </tr>\n",
       "    <tr>\n",
       "      <th>6396</th>\n",
       "      <td>6396</td>\n",
       "      <td>2013-10-14</td>\n",
       "      <td>Hard Road to World Domination for Chinese Firms</td>\n",
       "      <td>BEIJING - In the global contest for business, ...</td>\n",
       "      <td>https://www.industryweek.com/the-economy/compe...</td>\n",
       "      <td>empty</td>\n",
       "    </tr>\n",
       "    <tr>\n",
       "      <th>7012</th>\n",
       "      <td>7012</td>\n",
       "      <td>1999-03-16</td>\n",
       "      <td>What's Really Driving Apple's Recovery</td>\n",
       "      <td>Steve Jobs lured Timothy D. Cook from industry...</td>\n",
       "      <td>https://www.industryweek.com/leadership/compan...</td>\n",
       "      <td>empty</td>\n",
       "    </tr>\n",
       "    <tr>\n",
       "      <th>6149</th>\n",
       "      <td>6149</td>\n",
       "      <td>2014-08-12</td>\n",
       "      <td>What is the Samsung Way?</td>\n",
       "      <td>“Samsung went from a no-name company in the gl...</td>\n",
       "      <td>https://www.industryweek.com/leadership/compan...</td>\n",
       "      <td>empty</td>\n",
       "    </tr>\n",
       "    <tr>\n",
       "      <th>2385</th>\n",
       "      <td>2385</td>\n",
       "      <td>2018-08-08</td>\n",
       "      <td>July 2018 Robotics and Intelligent Systems Inv...</td>\n",
       "      <td>Investment into robotics and intelligent syste...</td>\n",
       "      <td>https://www.therobotreport.com/july-2018-robot...</td>\n",
       "      <td>empty</td>\n",
       "    </tr>\n",
       "    <tr>\n",
       "      <th>1150</th>\n",
       "      <td>1150</td>\n",
       "      <td>2019-05-14</td>\n",
       "      <td>Siemens Moves to Secure Industry 4.0</td>\n",
       "      <td>Whether we like it or not, manufacturing is be...</td>\n",
       "      <td>https://www.engineering.com/AdvancedManufactur...</td>\n",
       "      <td>empty</td>\n",
       "    </tr>\n",
       "  </tbody>\n",
       "</table>\n",
       "<p>100 rows × 6 columns</p>\n",
       "</div>"
      ],
      "text/plain": [
       "     index        date                                              title  \\\n",
       "1557  1557  2019-03-04  IBM unveils new commercial Q System One quantu...   \n",
       "5894  5894  2015-03-31     IBM Investing Billions in 'Internet of Things'   \n",
       "228    228  2019-12-10  Intel Introduces cryogenic control chip 'Horse...   \n",
       "353    353  2019-11-18  An artificial intelligence algorithm can learn...   \n",
       "3578  3578  2017-09-11             IBM and MIT partner on AI research lab   \n",
       "...    ...         ...                                                ...   \n",
       "6396  6396  2013-10-14    Hard Road to World Domination for Chinese Firms   \n",
       "7012  7012  1999-03-16             What's Really Driving Apple's Recovery   \n",
       "6149  6149  2014-08-12                           What is the Samsung Way?   \n",
       "2385  2385  2018-08-08  July 2018 Robotics and Intelligent Systems Inv...   \n",
       "1150  1150  2019-05-14               Siemens Moves to Secure Industry 4.0   \n",
       "\n",
       "                                                   text  \\\n",
       "1557  IBM has released the world's first-ever commer...   \n",
       "5894  NEW YORK - IBM (IW 500/11) announced Tuesday i...   \n",
       "228   Intel has announced the development of a cryog...   \n",
       "353   Artificial intelligence can be used to predict...   \n",
       "3578  IBM and the Mass. Institute of Technology plan...   \n",
       "...                                                 ...   \n",
       "6396  BEIJING - In the global contest for business, ...   \n",
       "7012  Steve Jobs lured Timothy D. Cook from industry...   \n",
       "6149  “Samsung went from a no-name company in the gl...   \n",
       "2385  Investment into robotics and intelligent syste...   \n",
       "1150  Whether we like it or not, manufacturing is be...   \n",
       "\n",
       "                                                    url unknown  \n",
       "1557  https://www.themanufacturer.com/articles/ibm-u...   empty  \n",
       "5894  https://www.industryweek.com/technology-and-ii...   empty  \n",
       "228   https://techxplore.com/news/2019-12-intel-cryo...   empty  \n",
       "353   https://techxplore.com/news/2019-11-artificial...   empty  \n",
       "3578  https://www.therobotreport.com/ibm-mit-partner...   empty  \n",
       "...                                                 ...     ...  \n",
       "6396  https://www.industryweek.com/the-economy/compe...   empty  \n",
       "7012  https://www.industryweek.com/leadership/compan...   empty  \n",
       "6149  https://www.industryweek.com/leadership/compan...   empty  \n",
       "2385  https://www.therobotreport.com/july-2018-robot...   empty  \n",
       "1150  https://www.engineering.com/AdvancedManufactur...   empty  \n",
       "\n",
       "[100 rows x 6 columns]"
      ]
     },
     "execution_count": 18,
     "metadata": {},
     "output_type": "execute_result"
    }
   ],
   "source": [
    "def nearest_neighbors(values, all_values, nbr_neighbors=100):\n",
    "    \n",
    "    nn = NearestNeighbors(nbr_neighbors, metric='cosine', algorithm='brute').fit(all_values) #cosine similarity \n",
    "    \n",
    "    dists, idxs = nn.kneighbors(values)\n",
    "    \n",
    "    print(dists)\n",
    "    print(idxs)\n",
    "    return idxs\n",
    "\n",
    "from sklearn.neighbors import NearestNeighbors\n",
    "\n",
    "ids = nearest_neighbors(query_tfidf, final_tfidf)\n",
    "\n",
    "\n",
    "data.loc[list(ids[0])]"
   ]
  },
  {
   "cell_type": "code",
   "execution_count": 19,
   "metadata": {},
   "outputs": [
    {
     "data": {
      "text/plain": [
       "b'ibm has releas the world commerci quantum comput the system one howev more progress need befor will take over from today super comput updat march ibm has announc that has achiev the best perform from quantum comput date scientif mileston that includ the lowest error rate has ever measur the high unstabl realm quantum comput accord ibm research perform was measur via quantum metric that account for gate and measur error well devic cross talk and connect and circuit softwar compil effici recent unveil ibm system one quantum comput with processor has produc quantum volum rough doubl that the current ibm ibm network devic which have quantum volum the result mean perform has doubl everi year sinc the result will present the american physic societi ap meet today march quantum volum follow law for quantum comput and doubl annual for the next decad then quantum comput will more practic and reach the desir quantum advantag status quantum advantag refer the point where quantum applic deliv signific advantag classic comput origin articl februari ibm want make it system one quantum comput commerci devic that can rent for use research extern laboratori and compani the system one was unveil ces first integr univers approxim quantum comput system design for scientif and commerci ibm have state they plan open the first ibm quantum comput centr for commerci client later this year poughkeepsi new york but what quantum comput attach video below that explain ibm hope that one day their system will abl tackl problem seen complex and exponenti natur for classic system some exampl possibl futur applic for quantum comput includ find the optim path across global system for logist and optimis fleet oper for deliveri find new way model financi data and isol key global risk factor make better invest accord arvind krishna the senior vice presid hybrid could and director ibm ibm system one major step forward the commercialis quantum comput this new system critic expand quantum comput beyond the wall the research lab work develop practic quantum applic for busi and scienc the quantum comput the next step for ibm which aim introduc programm univers quantum comput the public through the ibm experi and the ibm network last year the network chose eight collabor one these eight was quantum technolog compani from the univers sydney founder and ceo professor michael biercuck describ system one major step forward quantum comput system one demonstr that function though limit quantum comput can engin with custom compon such that function set differ than precis research facil say move toward quantum comput move these machin outsid research environ such that they oper with minim expert intervent critic step for the technolog ibm system one major and import step that the system one machin and hous squar borosil glass box the machin was design collabor with map project offic univers design studio and goppion the latter manufactur display case that protect piec histor import such the mona lisa the louvr and the crown jewel the tower london biercuck say aim assist with the system project provid solut within the hardwar error sphere field collect has number challeng overcom larg relat hardwar error say provid solut that can abl acceler effort and bring forward the threshold have the first use quantum comput alongsid our solut howev team will make continu advanc hardwar perform and system size and team will look realiz quantum error correct this special algorithm run quantum comput hardwar that can help identifi and correct for ani error that slip through and consid essenti element larg scale quantum applic for quantum comput speak some the current custom ibm biercuck say the practic applic quantum comput could includ improv materi and drug discov artifici intellig financi servic and resourc effici comput are believ use for wide varieti problem chemistri and materi scienc becaus the under problem are fundament quantum mechan say are potenti high valu applic imagin exxonmobil learn how improv the effici fuel combust use quantum comput this someth team the univers sydney work but great exampl the kind problem that can potenti impact via quantum the ibm experi free and avail the public has more than user who have been respons for conduct over million experi with over research paper publish anoth compani interest the work ibm do quantum comput barclay bank decemb last year barclay join the ibm network which give the bank access quantum processor run experi and access technic expert and research quantum comput softwar are keen explor quantum comput run experi actual quantum processor rather than just use quantum simul run classic processor said lee brain the invest bank cto offic howev quantum comput current onli support qubit it applic are limit addit quantum comput system can oper for onli brief period befor they lose inform into the environ via process known quantum decoher quantum comput more practic bank the number qubit will need increas and the quantum coher time will need increas brain said ongo research quantum comput hardwar has been steadili improv those two aspect'"
      ]
     },
     "execution_count": 19,
     "metadata": {},
     "output_type": "execute_result"
    }
   ],
   "source": [
    "final_text[1557]"
   ]
  },
  {
   "cell_type": "code",
   "execution_count": 20,
   "metadata": {},
   "outputs": [
    {
     "data": {
      "text/plain": [
       "b'intel has announc the develop cryogen control chip call hors ridg the chip can control multipl qubit quantum comput it announc intel claim that develop the chip repres major mileston the path toward truli viabl quantum comput also part it announc intel claim that other player the quantum comput develop world have neglect import part ani such way control mani qubit the same time intel report that they develop the new chip collabor with delft and tno use technolog develop they suggest the new chip will dramat increas the potenti for develop truli use quantum comput quantum comput are base qubit which are notori unstabl make them more stabl quantum comput engin build redund thus prevent error from ruin whi mani qubit are need the qubit are hous freezer that keep them veri near absolut zero they are control microwav puls that origin outsid the freezer this mean that each unit has host cabl stick out connect extern control intel new chip goe insid the freezer with the qubit elimin the cabl mess that whi call cryogen control chip the new chip also lot smaller than other that are current use taken togeth the two featur open the door singl control manipul more than one claim that hors ridg lay the foundat for futur control that will abl control thousand even million qubit make the realize quantum comput possibl miniatur they claim the key notabl miniatur one intel strong suit intel has made anoth chang the design quantum comput have rais the temperatur insid the freezer coupl keep the heat from hors ridg from caus problem with the qubit they also acknowledg that develop truli use quantum comput still veri long way off call current develop mile one marathon scienc network'"
      ]
     },
     "execution_count": 20,
     "metadata": {},
     "output_type": "execute_result"
    }
   ],
   "source": [
    "final_text[228]"
   ]
  },
  {
   "cell_type": "code",
   "execution_count": 21,
   "metadata": {},
   "outputs": [
    {
     "data": {
      "text/plain": [
       "b'new york ibm announc tuesday was pump billion into new divis focus the grow market for connect devic the internet thing the move add ibm resourc the market for smart devic such refriger car cloth and other object which can connect the internet link smartphon ibm will make it analyt avail maker these devic help improv their function these resourc will made avail open platform provid manufactur with the abil design and produc new generat connect devic that are better optim for the iot ibm said statement our knowledg the world grow with everi connect sensor and devic but too often are not act even when know can ensur better result said bob picciano senior vice presid ibm analyt ibm estim that all data generat devic such smartphon tablet connect vehicl and applianc never analyz act and that much the data begin lose valu not quick analyz one exampl ibm said would introduc servic that help insur compani extract insight from connect vehicl separ but relat announc ibm said would team with the weather compani which oper the weather channel for improv data collect from weather sensor aircraft smartphon build and move vehicl the two compani said this data can improv forecast and help busi avoid loss can also help util compani plan for energi need for extrem heat cold this deal combin the capabl the world largest and most advanc commerci weather compani with the leader big data and analyt said david kenni chairman and chief execut the weather compani this watersh moment for busi that have long been impact weather but haven had the rich data enhanc abil drive posit busi outcom copyright agenc'"
      ]
     },
     "execution_count": 21,
     "metadata": {},
     "output_type": "execute_result"
    }
   ],
   "source": [
    "final_text[5894]"
   ]
  },
  {
   "cell_type": "code",
   "execution_count": null,
   "metadata": {},
   "outputs": [],
   "source": []
  }
 ],
 "metadata": {
  "kernelspec": {
   "display_name": "Python 3",
   "language": "python",
   "name": "python3"
  },
  "language_info": {
   "codemirror_mode": {
    "name": "ipython",
    "version": 3
   },
   "file_extension": ".py",
   "mimetype": "text/x-python",
   "name": "python",
   "nbconvert_exporter": "python",
   "pygments_lexer": "ipython3",
   "version": "3.7.3"
  }
 },
 "nbformat": 4,
 "nbformat_minor": 2
}
